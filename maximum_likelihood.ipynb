{
 "cells": [
  {
   "cell_type": "code",
   "execution_count": 1,
   "metadata": {},
   "outputs": [
    {
     "name": "stdout",
     "output_type": "stream",
     "text": [
      "   direc: array([[0.00168492]])\n",
      "     fun: 1712.7581492444654\n",
      " message: 'Optimization terminated successfully.'\n",
      "    nfev: 35\n",
      "     nit: 2\n",
      "  status: 0\n",
      " success: True\n",
      "       x: array(2.06800002)\n"
     ]
    },
    {
     "ename": "NameError",
     "evalue": "name 'parameters' is not defined",
     "output_type": "error",
     "traceback": [
      "\u001b[0;31m---------------------------------------------------------------------------\u001b[0m",
      "\u001b[0;31mNameError\u001b[0m                                 Traceback (most recent call last)",
      "\u001b[0;32m<ipython-input-1-75b212447f88>\u001b[0m in \u001b[0;36m<module>\u001b[0;34m\u001b[0m\n\u001b[1;32m     43\u001b[0m plt.plot(\n\u001b[1;32m     44\u001b[0m     \u001b[0mx_plot\u001b[0m\u001b[0;34m,\u001b[0m\u001b[0;34m\u001b[0m\u001b[0;34m\u001b[0m\u001b[0m\n\u001b[0;32m---> 45\u001b[0;31m     \u001b[0mstats\u001b[0m\u001b[0;34m.\u001b[0m\u001b[0mpoisson\u001b[0m\u001b[0;34m.\u001b[0m\u001b[0mpmf\u001b[0m\u001b[0;34m(\u001b[0m\u001b[0mx_plot\u001b[0m\u001b[0;34m,\u001b[0m \u001b[0;34m*\u001b[0m\u001b[0mparameters\u001b[0m\u001b[0;34m)\u001b[0m\u001b[0;34m,\u001b[0m\u001b[0;34m\u001b[0m\u001b[0;34m\u001b[0m\u001b[0m\n\u001b[0m\u001b[1;32m     46\u001b[0m     \u001b[0mmarker\u001b[0m\u001b[0;34m=\u001b[0m\u001b[0;34m'o'\u001b[0m\u001b[0;34m,\u001b[0m \u001b[0mlinestyle\u001b[0m\u001b[0;34m=\u001b[0m\u001b[0;34m''\u001b[0m\u001b[0;34m,\u001b[0m\u001b[0;34m\u001b[0m\u001b[0;34m\u001b[0m\u001b[0m\n\u001b[1;32m     47\u001b[0m     \u001b[0mlabel\u001b[0m\u001b[0;34m=\u001b[0m\u001b[0;34m'Fit result'\u001b[0m\u001b[0;34m,\u001b[0m\u001b[0;34m\u001b[0m\u001b[0;34m\u001b[0m\u001b[0m\n",
      "\u001b[0;31mNameError\u001b[0m: name 'parameters' is not defined"
     ]
    }
   ],
   "source": [
    "import numpy as np\n",
    "import matplotlib.pyplot as plt\n",
    "from scipy.optimize import minimize\n",
    "from scipy.special import factorial\n",
    "from scipy import stats\n",
    "\n",
    "\n",
    "def poisson(k, lamb):\n",
    "    \"\"\"poisson pdf, parameter lamb is the fit parameter\"\"\"\n",
    "    return (lamb**k/factorial(k)) * np.exp(-lamb)\n",
    "\n",
    "\n",
    "def negative_log_likelihood(params, data):\n",
    "    \"\"\"\n",
    "    The negative log-Likelihood-Function\n",
    "    \"\"\"\n",
    "\n",
    "    lnl = - np.sum(np.log(poisson(data, params[0])))\n",
    "    return lnl\n",
    "\n",
    "def negative_log_likelihood(params, data):\n",
    "    ''' better alternative using scipy '''\n",
    "    return -stats.poisson.logpmf(data, params[0]).sum()\n",
    "\n",
    "\n",
    "# get poisson deviated random numbers\n",
    "data = np.random.poisson(2, 1000)\n",
    "\n",
    "# minimize the negative log-Likelihood\n",
    "\n",
    "result = minimize(negative_log_likelihood,  # function to minimize\n",
    "                  x0=np.ones(1),            # start value\n",
    "                  args=(data,),             # additional arguments for function\n",
    "                  method='Powell',          # minimization method, see docs\n",
    "                  )\n",
    "# result is a scipy optimize result object, the fit parameters \n",
    "# are stored in result.x\n",
    "print(result)\n",
    "\n",
    "# plot poisson-distribution with fitted parameter\n",
    "x_plot = np.arange(0, 15)\n",
    "\n",
    "plt.plot(\n",
    "    x_plot,\n",
    "    stats.poisson.pmf(x_plot, *parameters),\n",
    "    marker='o', linestyle='',\n",
    "    label='Fit result',\n",
    ")\n",
    "plt.legend()\n",
    "plt.show()"
   ]
  },
  {
   "cell_type": "code",
   "execution_count": null,
   "metadata": {},
   "outputs": [],
   "source": []
  }
 ],
 "metadata": {
  "kernelspec": {
   "display_name": "Python 3",
   "language": "python",
   "name": "python3"
  },
  "language_info": {
   "codemirror_mode": {
    "name": "ipython",
    "version": 3
   },
   "file_extension": ".py",
   "mimetype": "text/x-python",
   "name": "python",
   "nbconvert_exporter": "python",
   "pygments_lexer": "ipython3",
   "version": "3.7.3"
  }
 },
 "nbformat": 4,
 "nbformat_minor": 4
}
